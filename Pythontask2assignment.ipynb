{
 "cells": [
  {
   "cell_type": "code",
   "execution_count": 1,
   "id": "baf56d3a-b59a-4e0b-9c02-4c71fb7a41b9",
   "metadata": {},
   "outputs": [],
   "source": [
    "##Q1.\n",
    "#Here's an example code in Python that should meet the requirements you specified:\n",
    "\n",
    "import re\n",
    "\n",
    "def check_password(password):\n",
    "    if len(password) != 10:\n",
    "        return \"Invalid Password\"\n",
    "    \n",
    "    uppercase = len(re.findall(r'[A-Z]', password))\n",
    "    lowercase = len(re.findall(r'[a-z]', password))\n",
    "    numbers = len(re.findall(r'[0-9]', password))\n",
    "    special = len(re.findall(r'[!@#$%^&*()_+{}\":?><|,.\\/;\\'\\[\\]\\\\]', password))\n",
    "    \n",
    "    if uppercase < 2 or lowercase < 2 or numbers < 1 or special < 3:\n",
    "        return \"Invalid Password\"\n",
    "    \n",
    "    return \"Valid Password\""
   ]
  },
  {
   "cell_type": "code",
   "execution_count": null,
   "id": "f9b14802-03e0-4900-afb1-7f08a4d3b195",
   "metadata": {},
   "outputs": [],
   "source": [
    "In this code, we first check whether the length of the password is 10 characters or not. If it's not, we return \"Invalid Password\".\n",
    "\n",
    "Then, we use regular expressions to count the number of uppercase letters, lowercase letters, numbers, and special characters in the password. We check whether the password satisfies the requirements and return either \"Valid Password\" or \"Invalid Password\" accordingly.\n",
    "\n",
    "Note that the regular expression used to match special characters may not include all possible special characters. You can modify it as per your requirement."
   ]
  },
  {
   "cell_type": "code",
   "execution_count": 2,
   "id": "6f3cf053-e86d-4fc9-87c8-c348c7512a6d",
   "metadata": {},
   "outputs": [
    {
     "name": "stdout",
     "output_type": "stream",
     "text": [
      "True\n",
      "False\n"
     ]
    }
   ],
   "source": [
    "##Q2.\n",
    "#Check if the string starts with a particular letter:\n",
    "\n",
    "#1)Using Lambda function:\n",
    "\n",
    "starts_with = lambda s, letter: s.startswith(letter)\n",
    "print(starts_with(\"apple\", \"a\")) # True\n",
    "print(starts_with(\"banana\", \"c\")) # False"
   ]
  },
  {
   "cell_type": "code",
   "execution_count": 3,
   "id": "c1ae325e-0187-4ffb-bc05-a87569f097bd",
   "metadata": {},
   "outputs": [
    {
     "name": "stdout",
     "output_type": "stream",
     "text": [
      "['apple', 'avocado']\n"
     ]
    }
   ],
   "source": [
    "#2)Using List Comprehension:\n",
    "\n",
    "words = [\"apple\", \"banana\", \"cherry\", \"avocado\"]\n",
    "letter = \"a\"\n",
    "starts_with = [word for word in words if word.startswith(letter)]\n",
    "print(starts_with) # ['apple', 'avocado']"
   ]
  },
  {
   "cell_type": "code",
   "execution_count": 4,
   "id": "5fc25c08-82e8-4e22-8c0a-0411c6853b43",
   "metadata": {},
   "outputs": [
    {
     "name": "stdout",
     "output_type": "stream",
     "text": [
      "True\n",
      "False\n"
     ]
    }
   ],
   "source": [
    "#Check if the string is numeric:\n",
    "\n",
    "#Using Lambda function:\n",
    "is_numeric = lambda s: s.isnumeric()\n",
    "print(is_numeric(\"123\")) # True\n",
    "print(is_numeric(\"abc\")) # False"
   ]
  },
  {
   "cell_type": "code",
   "execution_count": 5,
   "id": "1908abba-0847-4de8-a75e-bebf05cc35a8",
   "metadata": {},
   "outputs": [
    {
     "name": "stdout",
     "output_type": "stream",
     "text": [
      "['123', '0']\n"
     ]
    }
   ],
   "source": [
    "#Using List Comprehension:\n",
    "strings = [\"123\", \"45.67\", \"abc\", \"0\"]\n",
    "is_numeric = [s for s in strings if s.isnumeric()]\n",
    "print(is_numeric) # ['123', '0']\n"
   ]
  },
  {
   "cell_type": "code",
   "execution_count": 6,
   "id": "a7c2d0c3-cef9-4cdb-8f55-1e55ed9d7a3f",
   "metadata": {},
   "outputs": [
    {
     "name": "stdout",
     "output_type": "stream",
     "text": [
      "[('orange', 80), ('mango', 99), ('grapes', 1000)]\n"
     ]
    }
   ],
   "source": [
    "#3)Sort a list of tuples having fruit names and their quantity:\n",
    "\n",
    "#Using Lambda function and sorted() function:\n",
    "\n",
    "fruits = [(\"mango\",99),(\"orange\",80), (\"grapes\", 1000)]\n",
    "sorted_fruits = sorted(fruits, key=lambda x: x[1])\n",
    "print(sorted_fruits) # [('orange', 80), ('mango', 99), ('grapes', 1000)]"
   ]
  },
  {
   "cell_type": "code",
   "execution_count": 7,
   "id": "ef760edf-3e19-4600-8c87-4380c1943154",
   "metadata": {},
   "outputs": [
    {
     "name": "stdout",
     "output_type": "stream",
     "text": [
      "[80, 99, 1000]\n"
     ]
    }
   ],
   "source": [
    "#Using List Comprehension:\n",
    "fruits = [(\"mango\",99),(\"orange\",80), (\"grapes\", 1000)]\n",
    "sorted_fruits = [fruit for _, fruit in sorted(fruits, key=lambda x: x[1])]\n",
    "print(sorted_fruits) # [80, 99, 1000]"
   ]
  },
  {
   "cell_type": "code",
   "execution_count": 9,
   "id": "72defdb4-d9a6-4850-a807-ffd02c8f9a94",
   "metadata": {},
   "outputs": [
    {
     "name": "stdout",
     "output_type": "stream",
     "text": [
      "[1, 4, 9, 16, 25, 36, 49, 64, 81, 100]\n"
     ]
    }
   ],
   "source": [
    "#4)Find the squares of numbers from 1 to 10:\n",
    "\n",
    "#Using Lambda function and map() function:\n",
    "numbers = range(1, 11)\n",
    "squares = list(map(lambda x: x*x, numbers))\n",
    "print(squares) # [1, 4, 9, 16, 25, 36, 49, 64, 81, 100]"
   ]
  },
  {
   "cell_type": "code",
   "execution_count": 10,
   "id": "8822256a-501a-4d3c-b44c-826fbca323a5",
   "metadata": {},
   "outputs": [
    {
     "name": "stdout",
     "output_type": "stream",
     "text": [
      "[1, 4, 9, 16, 25, 36, 49, 64, 81, 100]\n"
     ]
    }
   ],
   "source": [
    "#Using List Comprehension:\n",
    "\n",
    "numbers = range(1, 11)\n",
    "squares = [x*x for x in numbers]\n",
    "print(squares) # [1, 4, 9, 16, 25, 36, 49, 64, 81, 100]"
   ]
  },
  {
   "cell_type": "code",
   "execution_count": 11,
   "id": "93f24274-e847-4337-b4a3-8cc68db373f3",
   "metadata": {},
   "outputs": [
    {
     "name": "stdout",
     "output_type": "stream",
     "text": [
      "[1.0, 1.2599210498948732, 1.4422495703074083, 1.5874010519681994, 1.7099759466766968, 1.8171205928321397, 1.912931182772389, 2.0, 2.080083823051904, 2.154434690031884]\n"
     ]
    }
   ],
   "source": [
    "#5)Find the cube root of numbers from 1 to 10:\n",
    "\n",
    "#Using Lambda function and map() function:\n",
    "\n",
    "import math\n",
    "numbers = range(1, 11)\n",
    "cube_roots = list(map(lambda x: math.pow(x, 1/3), numbers))\n",
    "print(cube_roots)  "
   ]
  },
  {
   "cell_type": "code",
   "execution_count": null,
   "id": "61758d1b-9ad3-450e-92fa-8d8eeb6d88a5",
   "metadata": {},
   "outputs": [],
   "source": [
    "#Using List Comprehension:\n",
    "\n",
    "import math\n",
    "numbers = range(1, 11)\n",
    "cube_ro"
   ]
  }
 ],
 "metadata": {
  "kernelspec": {
   "display_name": "Python 3 (ipykernel)",
   "language": "python",
   "name": "python3"
  },
  "language_info": {
   "codemirror_mode": {
    "name": "ipython",
    "version": 3
   },
   "file_extension": ".py",
   "mimetype": "text/x-python",
   "name": "python",
   "nbconvert_exporter": "python",
   "pygments_lexer": "ipython3",
   "version": "3.10.8"
  }
 },
 "nbformat": 4,
 "nbformat_minor": 5
}
